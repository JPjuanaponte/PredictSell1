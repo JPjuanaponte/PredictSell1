{
 "cells": [
  {
   "cell_type": "code",
   "execution_count": 0,
   "metadata": {
    "application/vnd.databricks.v1+cell": {
     "cellMetadata": {
      "byteLimit": 2048000,
      "rowLimit": 10000
     },
     "inputWidgets": {},
     "nuid": "53720b4d-8ea4-4c95-ad16-e100702d162f",
     "showTitle": false,
     "tableResultSettingsMap": {},
     "title": ""
    }
   },
   "outputs": [
    {
     "output_type": "display_data",
     "data": {
      "text/html": [
       "<style scoped>\n",
       "  .table-result-container {\n",
       "    max-height: 300px;\n",
       "    overflow: auto;\n",
       "  }\n",
       "  table, th, td {\n",
       "    border: 1px solid black;\n",
       "    border-collapse: collapse;\n",
       "  }\n",
       "  th, td {\n",
       "    padding: 5px;\n",
       "  }\n",
       "  th {\n",
       "    text-align: left;\n",
       "  }\n",
       "</style><div class='table-result-container'><table class='table-result'><thead style='background-color: white'><tr><th>path</th><th>modificationTime</th><th>length</th><th>content</th></tr></thead><tbody><tr><td>wasbs://data@storagepredictsell.blob.core.windows.net/test_blob.txt</td><td>2024-11-23T08:32:55Z</td><td>53</td><td>RXN0ZSBlcyB1biBhcmNoaXZvIGRlIHBydWViYSBwYXJhIEF6dXJlIEJsb2IgU3RvcmFnZS4=</td></tr></tbody></table></div>"
      ]
     },
     "metadata": {
      "application/vnd.databricks.v1+output": {
       "addedWidgets": {},
       "aggData": [],
       "aggError": "",
       "aggOverflow": false,
       "aggSchema": [],
       "aggSeriesLimitReached": false,
       "aggType": "",
       "arguments": {},
       "columnCustomDisplayInfos": {},
       "data": [
        [
         "wasbs://data@storagepredictsell.blob.core.windows.net/test_blob.txt",
         "2024-11-23T08:32:55Z",
         53,
         "RXN0ZSBlcyB1biBhcmNoaXZvIGRlIHBydWViYSBwYXJhIEF6dXJlIEJsb2IgU3RvcmFnZS4="
        ]
       ],
       "datasetInfos": [],
       "dbfsResultPath": null,
       "isJsonSchema": true,
       "metadata": {},
       "overflow": false,
       "plotOptions": {
        "customPlotOptions": {},
        "displayType": "table",
        "pivotAggregation": null,
        "pivotColumns": null,
        "xColumns": null,
        "yColumns": null
       },
       "removedWidgets": [],
       "schema": [
        {
         "metadata": "{}",
         "name": "path",
         "type": "\"string\""
        },
        {
         "metadata": "{}",
         "name": "modificationTime",
         "type": "\"timestamp\""
        },
        {
         "metadata": "{}",
         "name": "length",
         "type": "\"long\""
        },
        {
         "metadata": "{\"spark.contentAnnotation.mimeType\":\"text/plain\"}",
         "name": "content",
         "type": "\"binary\""
        }
       ],
       "type": "table"
      }
     },
     "output_type": "display_data"
    }
   ],
   "source": [
    "# Configuración de la clave de acceso a los contenedor de azure blob storage desde Databricks\n",
    "\n",
    "spark.conf.set(\n",
    "    \"fs.azure.account.key.storagepredictsell.blob.core.windows.net\", \n",
    "    \"tR90WFDS7ts24Kr9Y1I9/Ptyy8xSLM6CgYoUTVmdMUZSDjG0Mn9o+/traZDmO1iguDysGtDH5YUg+AStGIr96A==\"\n",
    ")\n",
    "\n",
    "# Define el nombre del contenedor y la cuenta de almacenamiento\n",
    "container_name = \"data\"  # Nombre del contenedor en Azure\n",
    "storage_account_name = \"storagepredictsell\"\n",
    "storage_url = f\"wasbs://{container_name}@{storage_account_name}.blob.core.windows.net/\"\n",
    "\n",
    "# Listar los archivos en el contenedor de Azure Blob Storage\n",
    "df = spark.read.format(\"binaryFile\").load(storage_url)\n",
    "display(df)\n"
   ]
  },
  {
   "cell_type": "code",
   "execution_count": 0,
   "metadata": {
    "application/vnd.databricks.v1+cell": {
     "cellMetadata": {
      "byteLimit": 2048000,
      "rowLimit": 10000
     },
     "inputWidgets": {},
     "nuid": "2bf96f38-a8f6-4afb-b2fd-4f37a6cc7133",
     "showTitle": false,
     "tableResultSettingsMap": {},
     "title": ""
    }
   },
   "outputs": [
    {
     "output_type": "execute_result",
     "data": {
      "text/plain": [
       "[FileInfo(path='wasbs://data@storagepredictsell.blob.core.windows.net/test_blob.txt', name='test_blob.txt', size=53, modificationTime=1732350775000)]"
      ]
     },
     "execution_count": 6,
     "metadata": {},
     "output_type": "execute_result"
    }
   ],
   "source": [
    "dbutils.fs.ls(storage_url)\n"
   ]
  },
  {
   "cell_type": "code",
   "execution_count": 0,
   "metadata": {
    "application/vnd.databricks.v1+cell": {
     "cellMetadata": {
      "byteLimit": 2048000,
      "rowLimit": 10000
     },
     "inputWidgets": {},
     "nuid": "bf0638b4-ef28-4c67-988d-d1b472a3de23",
     "showTitle": false,
     "tableResultSettingsMap": {},
     "title": ""
    }
   },
   "outputs": [
    {
     "output_type": "execute_result",
     "data": {
      "text/plain": [
       "[FileInfo(path='dbfs:/mnt/storagepredictsell/data/', name='data/', size=0, modificationTime=1732451000000),\n",
       " FileInfo(path='dbfs:/mnt/storagepredictsell/kaggle/', name='kaggle/', size=0, modificationTime=1732451898000),\n",
       " FileInfo(path='dbfs:/mnt/storagepredictsell/test.txt', name='test.txt', size=29, modificationTime=1732452029000)]"
      ]
     },
     "execution_count": 7,
     "metadata": {},
     "output_type": "execute_result"
    }
   ],
   "source": [
    "# Listar todos los puntos de montaje\n",
    "dbutils.fs.ls('/mnt/storagepredictsell')\n",
    "\n"
   ]
  },
  {
   "cell_type": "code",
   "execution_count": 0,
   "metadata": {
    "application/vnd.databricks.v1+cell": {
     "cellMetadata": {
      "byteLimit": 2048000,
      "rowLimit": 10000
     },
     "collapsed": true,
     "inputWidgets": {},
     "nuid": "2224de8f-37e0-4741-8328-1f7a6c15853f",
     "showTitle": false,
     "tableResultSettingsMap": {},
     "title": ""
    }
   },
   "outputs": [
    {
     "output_type": "stream",
     "name": "stdout",
     "output_type": "stream",
     "text": [
      "Requirement already satisfied: kaggle in /local_disk0/.ephemeral_nfs/envs/pythonEnv-e0b8b54c-9cf6-4909-aaf0-db6903e5f796/lib/python3.11/site-packages (1.6.17)\nRequirement already satisfied: six>=1.10 in /usr/lib/python3/dist-packages (from kaggle) (1.16.0)\nRequirement already satisfied: certifi>=2023.7.22 in /databricks/python3/lib/python3.11/site-packages (from kaggle) (2023.7.22)\nRequirement already satisfied: python-dateutil in /databricks/python3/lib/python3.11/site-packages (from kaggle) (2.8.2)\nRequirement already satisfied: requests in /databricks/python3/lib/python3.11/site-packages (from kaggle) (2.31.0)\nRequirement already satisfied: tqdm in /local_disk0/.ephemeral_nfs/envs/pythonEnv-e0b8b54c-9cf6-4909-aaf0-db6903e5f796/lib/python3.11/site-packages (from kaggle) (4.67.0)\nRequirement already satisfied: python-slugify in /local_disk0/.ephemeral_nfs/envs/pythonEnv-e0b8b54c-9cf6-4909-aaf0-db6903e5f796/lib/python3.11/site-packages (from kaggle) (8.0.4)\nRequirement already satisfied: urllib3 in /databricks/python3/lib/python3.11/site-packages (from kaggle) (1.26.16)\nRequirement already satisfied: bleach in /local_disk0/.ephemeral_nfs/envs/pythonEnv-e0b8b54c-9cf6-4909-aaf0-db6903e5f796/lib/python3.11/site-packages (from kaggle) (6.2.0)\nRequirement already satisfied: webencodings in /local_disk0/.ephemeral_nfs/envs/pythonEnv-e0b8b54c-9cf6-4909-aaf0-db6903e5f796/lib/python3.11/site-packages (from bleach->kaggle) (0.5.1)\nRequirement already satisfied: text-unidecode>=1.3 in /local_disk0/.ephemeral_nfs/envs/pythonEnv-e0b8b54c-9cf6-4909-aaf0-db6903e5f796/lib/python3.11/site-packages (from python-slugify->kaggle) (1.3)\nRequirement already satisfied: charset-normalizer<4,>=2 in /databricks/python3/lib/python3.11/site-packages (from requests->kaggle) (2.0.4)\nRequirement already satisfied: idna<4,>=2.5 in /databricks/python3/lib/python3.11/site-packages (from requests->kaggle) (3.4)\n\u001B[43mNote: you may need to restart the kernel using %restart_python or dbutils.library.restartPython() to use updated packages.\u001B[0m\n"
     ]
    }
   ],
   "source": [
    "%pip install kaggle"
   ]
  },
  {
   "cell_type": "code",
   "execution_count": 0,
   "metadata": {
    "application/vnd.databricks.v1+cell": {
     "cellMetadata": {
      "byteLimit": 2048000,
      "rowLimit": 10000
     },
     "inputWidgets": {},
     "nuid": "d4aede33-7248-4f21-b3b6-9d072bae1aa2",
     "showTitle": false,
     "tableResultSettingsMap": {},
     "title": ""
    }
   },
   "outputs": [],
   "source": [
    "%restart_python"
   ]
  },
  {
   "cell_type": "code",
   "execution_count": 0,
   "metadata": {
    "application/vnd.databricks.v1+cell": {
     "cellMetadata": {
      "byteLimit": 2048000,
      "rowLimit": 10000
     },
     "inputWidgets": {},
     "nuid": "7f86326d-573f-4819-96bd-9b90c9a6f990",
     "showTitle": false,
     "tableResultSettingsMap": {},
     "title": ""
    }
   },
   "outputs": [
    {
     "output_type": "stream",
     "name": "stdout",
     "output_type": "stream",
     "text": [
      "Autenticación exitosa con la API de Kaggle.\nDataset URL: https://www.kaggle.com/datasets/mohammadtalib786/retail-sales-dataset\nDataset descargado en: /tmp/kaggle\nArchivo descomprimido en: /tmp/kaggle\nArchivos descomprimidos:\nretail_sales_dataset.csv\nretail-sales-dataset.zip\nWrote 50672 bytes.\nArchivos movidos a: /mnt/storagepredictsell/data\nArchivos disponibles en DBFS:\nretail_sales_dataset.csv\n"
     ]
    }
   ],
   "source": [
    "#IMPORTAR DATOS DE KAGGLE AL ENTORNO DE AZURE EN EL CONTENEDOR DEFINIDO \n",
    "\n",
    "# Importar las bibliotecas necesarias\n",
    "import os\n",
    "from kaggle.api.kaggle_api_extended import KaggleApi\n",
    "import zipfile\n",
    "\n",
    "# Configurar credenciales de Kaggle\n",
    "os.environ['KAGGLE_USERNAME'] = 'juanp1018'  # Tu usuario de Kaggle\n",
    "os.environ['KAGGLE_KEY'] = 'b9cb155d4b8231d90f0ae21780933769'  # Tu clave API de Kaggle\n",
    "\n",
    "# Inicializar la API de Kaggle\n",
    "api = KaggleApi()\n",
    "api.authenticate()\n",
    "\n",
    "print(\"Autenticación exitosa con la API de Kaggle.\")\n",
    "\n",
    "# Configurar las rutas\n",
    "local_temp_path = \"/tmp/kaggle\"  # Ruta temporal para descargar el dataset\n",
    "final_data_path = \"/mnt/storagepredictsell/data\"  # Ruta en DBFS para almacenar el dataset final\n",
    "\n",
    "# Crear carpetas si no existen\n",
    "os.makedirs(local_temp_path, exist_ok=True)\n",
    "dbutils.fs.mkdirs(final_data_path)\n",
    "\n",
    "# Descargar el dataset desde Kaggle\n",
    "dataset_name = \"mohammadtalib786/retail-sales-dataset\"  # Nombre del dataset en Kaggle\n",
    "api.dataset_download_files(dataset_name, path=local_temp_path, unzip=False)\n",
    "\n",
    "print(f\"Dataset descargado en: {local_temp_path}\")\n",
    "\n",
    "# Descomprimir el archivo ZIP en la carpeta temporal\n",
    "zip_file_path = os.path.join(local_temp_path, \"retail-sales-dataset.zip\")\n",
    "with zipfile.ZipFile(zip_file_path, \"r\") as zip_ref:\n",
    "    zip_ref.extractall(local_temp_path)\n",
    "\n",
    "print(f\"Archivo descomprimido en: {local_temp_path}\")\n",
    "\n",
    "# Listar los archivos descomprimidos para verificarlos\n",
    "print(\"Archivos descomprimidos:\")\n",
    "extracted_files = os.listdir(local_temp_path)\n",
    "for file_name in extracted_files:\n",
    "    print(file_name)\n",
    "\n",
    "# Mover archivos descomprimidos a la ruta de DBFS\n",
    "for file_name in extracted_files:\n",
    "    local_file_path = os.path.join(local_temp_path, file_name)\n",
    "    dbfs_file_path = os.path.join(final_data_path, file_name)\n",
    "\n",
    "    # Ignorar el archivo ZIP\n",
    "    if not file_name.endswith(\".zip\"):\n",
    "        with open(local_file_path, 'r') as file:\n",
    "            file_content = file.read()\n",
    "        dbutils.fs.put(dbfs_file_path, file_content, overwrite=True)\n",
    "\n",
    "print(f\"Archivos movidos a: {final_data_path}\")\n",
    "\n",
    "# Verificar los archivos en la carpeta final\n",
    "print(\"Archivos disponibles en DBFS:\")\n",
    "files = dbutils.fs.ls(final_data_path)\n",
    "for file in files:\n",
    "    print(file.name)\n"
   ]
  },
  {
   "cell_type": "code",
   "execution_count": 0,
   "metadata": {
    "application/vnd.databricks.v1+cell": {
     "cellMetadata": {
      "byteLimit": 2048000,
      "rowLimit": 10000
     },
     "inputWidgets": {},
     "nuid": "97ce1bd8-7e5a-4665-aefb-4b63cc8f6eac",
     "showTitle": false,
     "tableResultSettingsMap": {},
     "title": ""
    }
   },
   "outputs": [
    {
     "output_type": "stream",
     "name": "stdout",
     "output_type": "stream",
     "text": [
      "retail_sales_dataset.csv\n"
     ]
    }
   ],
   "source": [
    "# Verificar el contenido de la carpeta donde guardaste el dataset\n",
    "files = dbutils.fs.ls(\"/mnt/storagepredictsell/data\")\n",
    "for file in files:\n",
    "    print(file.name)\n"
   ]
  },
  {
   "cell_type": "code",
   "execution_count": 0,
   "metadata": {
    "application/vnd.databricks.v1+cell": {
     "cellMetadata": {
      "byteLimit": 2048000,
      "rowLimit": 10000
     },
     "inputWidgets": {},
     "nuid": "efa5c7d3-2bf6-4934-bb4d-5e084b751461",
     "showTitle": false,
     "tableResultSettingsMap": {},
     "title": ""
    }
   },
   "outputs": [
    {
     "output_type": "stream",
     "name": "stdout",
     "output_type": "stream",
     "text": [
      "+--------------+----------+-----------+------+---+----------------+--------+--------------+------------+\n|Transaction ID|      Date|Customer ID|Gender|Age|Product Category|Quantity|Price per Unit|Total Amount|\n+--------------+----------+-----------+------+---+----------------+--------+--------------+------------+\n|             1|2023-11-24|    CUST001|  Male| 34|          Beauty|       3|            50|         150|\n|             2|2023-02-27|    CUST002|Female| 26|        Clothing|       2|           500|        1000|\n|             3|2023-01-13|    CUST003|  Male| 50|     Electronics|       1|            30|          30|\n|             4|2023-05-21|    CUST004|  Male| 37|        Clothing|       1|           500|         500|\n|             5|2023-05-06|    CUST005|  Male| 30|          Beauty|       2|            50|         100|\n+--------------+----------+-----------+------+---+----------------+--------+--------------+------------+\nonly showing top 5 rows\n\n"
     ]
    }
   ],
   "source": [
    "# Cargar el dataset en un DataFrame de Spark\n",
    "data_proyecto = spark.read.csv(\"/mnt/storagepredictsell/data/retail_sales_dataset.csv\", header=True, inferSchema=True)\n",
    "\n",
    "# Verificar las primeras filas del DataFrame\n",
    "data_proyecto.show(5)\n"
   ]
  },
  {
   "cell_type": "code",
   "execution_count": 0,
   "metadata": {
    "application/vnd.databricks.v1+cell": {
     "cellMetadata": {
      "byteLimit": 2048000,
      "rowLimit": 10000
     },
     "inputWidgets": {},
     "nuid": "203d75d9-a756-4a33-a86a-d4733b8f943b",
     "showTitle": false,
     "tableResultSettingsMap": {},
     "title": ""
    }
   },
   "outputs": [
    {
     "output_type": "execute_result",
     "data": {
      "text/plain": [
       "True"
      ]
     },
     "execution_count": 6,
     "metadata": {},
     "output_type": "execute_result"
    }
   ],
   "source": [
    "dbutils.fs.cp(\n",
    "    \"dbfs:/mnt/storagepredictsell/data/retail_sales_dataset.csv\",\n",
    "    \"wasbs://data@storagepredictsell.blob.core.windows.net/retail_sales_dataset.csv\"\n",
    ")\n"
   ]
  }
 ],
 "metadata": {
  "application/vnd.databricks.v1+notebook": {
   "dashboards": [],
   "environmentMetadata": {
    "base_environment": "",
    "client": "1"
   },
   "language": "python",
   "notebookMetadata": {
    "pythonIndentUnit": 4
   },
   "notebookName": "import_config_cluster",
   "widgets": {}
  },
  "language_info": {
   "name": "python"
  }
 },
 "nbformat": 4,
 "nbformat_minor": 0
}
