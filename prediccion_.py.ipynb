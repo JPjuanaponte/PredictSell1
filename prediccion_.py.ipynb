{
 "cells": [
  {
   "cell_type": "code",
   "execution_count": 0,
   "metadata": {
    "application/vnd.databricks.v1+cell": {
     "cellMetadata": {
      "byteLimit": 2048000,
      "rowLimit": 10000
     },
     "collapsed": true,
     "inputWidgets": {},
     "nuid": "4a0c8505-d0a0-46e9-8ac2-be6172ea933f",
     "showTitle": false,
     "tableResultSettingsMap": {},
     "title": ""
    }
   },
   "outputs": [
    {
     "output_type": "stream",
     "name": "stdout",
     "output_type": "stream",
     "text": [
      "Collecting streamlit\n  Obtaining dependency information for streamlit from https://files.pythonhosted.org/packages/9a/14/857d0734989f3d26f2f965b2e3f67568ea7a6e8a60cb9c1ed7f774b6d606/streamlit-1.40.1-py2.py3-none-any.whl.metadata\n  Downloading streamlit-1.40.1-py2.py3-none-any.whl.metadata (8.5 kB)\nCollecting altair<6,>=4.0 (from streamlit)\n  Obtaining dependency information for altair<6,>=4.0 from https://files.pythonhosted.org/packages/aa/f3/0b6ced594e51cc95d8c1fc1640d3623770d01e4969d29c0bd09945fafefa/altair-5.5.0-py3-none-any.whl.metadata\n  Downloading altair-5.5.0-py3-none-any.whl.metadata (11 kB)\nRequirement already satisfied: blinker<2,>=1.0.0 in /local_disk0/.ephemeral_nfs/cluster_libraries/python/lib/python3.11/site-packages (from streamlit) (1.9.0)\nRequirement already satisfied: cachetools<6,>=4.0 in /databricks/python3/lib/python3.11/site-packages (from streamlit) (5.3.3)\nRequirement already satisfied: click<9,>=7.0 in /local_disk0/.ephemeral_nfs/cluster_libraries/python/lib/python3.11/site-packages (from streamlit) (8.1.7)\nRequirement already satisfied: numpy<3,>=1.20 in /databricks/python3/lib/python3.11/site-packages (from streamlit) (1.23.5)\nRequirement already satisfied: packaging<25,>=20 in /databricks/python3/lib/python3.11/site-packages (from streamlit) (23.2)\nRequirement already satisfied: pandas<3,>=1.4.0 in /databricks/python3/lib/python3.11/site-packages (from streamlit) (1.5.3)\nRequirement already satisfied: pillow<12,>=7.1.0 in /databricks/python3/lib/python3.11/site-packages (from streamlit) (9.4.0)\nRequirement already satisfied: protobuf<6,>=3.20 in /databricks/python3/lib/python3.11/site-packages (from streamlit) (4.24.1)\nRequirement already satisfied: pyarrow>=7.0 in /databricks/python3/lib/python3.11/site-packages (from streamlit) (14.0.1)\nRequirement already satisfied: requests<3,>=2.27 in /databricks/python3/lib/python3.11/site-packages (from streamlit) (2.31.0)\nCollecting rich<14,>=10.14.0 (from streamlit)\n  Obtaining dependency information for rich<14,>=10.14.0 from https://files.pythonhosted.org/packages/19/71/39c7c0d87f8d4e6c020a393182060eaefeeae6c01dab6a84ec346f2567df/rich-13.9.4-py3-none-any.whl.metadata\n  Downloading rich-13.9.4-py3-none-any.whl.metadata (18 kB)\nRequirement already satisfied: tenacity<10,>=8.1.0 in /databricks/python3/lib/python3.11/site-packages (from streamlit) (8.2.2)\nCollecting toml<2,>=0.10.1 (from streamlit)\n  Obtaining dependency information for toml<2,>=0.10.1 from https://files.pythonhosted.org/packages/44/6f/7120676b6d73228c96e17f1f794d8ab046fc910d781c8d151120c3f1569e/toml-0.10.2-py2.py3-none-any.whl.metadata\n  Downloading toml-0.10.2-py2.py3-none-any.whl.metadata (7.1 kB)\nRequirement already satisfied: typing-extensions<5,>=4.3.0 in /databricks/python3/lib/python3.11/site-packages (from streamlit) (4.10.0)\nRequirement already satisfied: gitpython!=3.1.19,<4,>=3.0.7 in /databricks/python3/lib/python3.11/site-packages (from streamlit) (3.1.43)\nCollecting pydeck<1,>=0.8.0b4 (from streamlit)\n  Obtaining dependency information for pydeck<1,>=0.8.0b4 from https://files.pythonhosted.org/packages/ab/4c/b888e6cf58bd9db9c93f40d1c6be8283ff49d88919231afe93a6bcf61626/pydeck-0.9.1-py2.py3-none-any.whl.metadata\n  Downloading pydeck-0.9.1-py2.py3-none-any.whl.metadata (4.1 kB)\nRequirement already satisfied: tornado<7,>=6.0.3 in /databricks/python3/lib/python3.11/site-packages (from streamlit) (6.3.2)\nCollecting watchdog<7,>=2.1.5 (from streamlit)\n  Obtaining dependency information for watchdog<7,>=2.1.5 from https://files.pythonhosted.org/packages/b5/e8/dbf020b4d98251a9860752a094d09a65e1b436ad181faf929983f697048f/watchdog-6.0.0-py3-none-manylinux2014_x86_64.whl.metadata\n  Downloading watchdog-6.0.0-py3-none-manylinux2014_x86_64.whl.metadata (44 kB)\n\u001B[?25l     \u001B[90m━━━━━━━━━━━━━━━━━━━━━━━━━━━━━━━━━━━━━━━━\u001B[0m \u001B[32m0.0/44.3 kB\u001B[0m \u001B[31m?\u001B[0m eta \u001B[36m-:--:--\u001B[0m\n\u001B[2K     \u001B[90m━━━━━━━━━━━━━━━━━━━━━━━━━━━━━━━━━━━━━━━━\u001B[0m \u001B[32m44.3/44.3 kB\u001B[0m \u001B[31m1.7 MB/s\u001B[0m eta \u001B[36m0:00:00\u001B[0m\n\u001B[?25hRequirement already satisfied: jinja2 in /local_disk0/.ephemeral_nfs/cluster_libraries/python/lib/python3.11/site-packages (from altair<6,>=4.0->streamlit) (3.1.4)\nCollecting jsonschema>=3.0 (from altair<6,>=4.0->streamlit)\n  Obtaining dependency information for jsonschema>=3.0 from https://files.pythonhosted.org/packages/69/4a/4f9dbeb84e8850557c02365a0eee0649abe5eb1d84af92a25731c6c0f922/jsonschema-4.23.0-py3-none-any.whl.metadata\n  Downloading jsonschema-4.23.0-py3-none-any.whl.metadata (7.9 kB)\nCollecting narwhals>=1.14.2 (from altair<6,>=4.0->streamlit)\n  Obtaining dependency information for narwhals>=1.14.2 from https://files.pythonhosted.org/packages/ba/eb/988fdc5380e263f3f4ce40dd544720edc2ae5bd8f85c019ccdc6668399e5/narwhals-1.14.2-py3-none-any.whl.metadata\n  Downloading narwhals-1.14.2-py3-none-any.whl.metadata (7.5 kB)\nRequirement already satisfied: gitdb<5,>=4.0.1 in /databricks/python3/lib/python3.11/site-packages (from gitpython!=3.1.19,<4,>=3.0.7->streamlit) (4.0.11)\nRequirement already satisfied: python-dateutil>=2.8.1 in /databricks/python3/lib/python3.11/site-packages (from pandas<3,>=1.4.0->streamlit) (2.8.2)\nRequirement already satisfied: pytz>=2020.1 in /databricks/python3/lib/python3.11/site-packages (from pandas<3,>=1.4.0->streamlit) (2022.7)\nRequirement already satisfied: charset-normalizer<4,>=2 in /databricks/python3/lib/python3.11/site-packages (from requests<3,>=2.27->streamlit) (2.0.4)\nRequirement already satisfied: idna<4,>=2.5 in /databricks/python3/lib/python3.11/site-packages (from requests<3,>=2.27->streamlit) (3.4)\nRequirement already satisfied: urllib3<3,>=1.21.1 in /databricks/python3/lib/python3.11/site-packages (from requests<3,>=2.27->streamlit) (1.26.16)\nRequirement already satisfied: certifi>=2017.4.17 in /databricks/python3/lib/python3.11/site-packages (from requests<3,>=2.27->streamlit) (2023.7.22)\nCollecting markdown-it-py>=2.2.0 (from rich<14,>=10.14.0->streamlit)\n  Obtaining dependency information for markdown-it-py>=2.2.0 from https://files.pythonhosted.org/packages/42/d7/1ec15b46af6af88f19b8e5ffea08fa375d433c998b8a7639e76935c14f1f/markdown_it_py-3.0.0-py3-none-any.whl.metadata\n  Downloading markdown_it_py-3.0.0-py3-none-any.whl.metadata (6.9 kB)\nRequirement already satisfied: pygments<3.0.0,>=2.13.0 in /databricks/python3/lib/python3.11/site-packages (from rich<14,>=10.14.0->streamlit) (2.15.1)\nRequirement already satisfied: smmap<6,>=3.0.1 in /databricks/python3/lib/python3.11/site-packages (from gitdb<5,>=4.0.1->gitpython!=3.1.19,<4,>=3.0.7->streamlit) (5.0.1)\nRequirement already satisfied: MarkupSafe>=2.0 in /local_disk0/.ephemeral_nfs/cluster_libraries/python/lib/python3.11/site-packages (from jinja2->altair<6,>=4.0->streamlit) (3.0.2)\nRequirement already satisfied: attrs>=22.2.0 in /local_disk0/.ephemeral_nfs/cluster_libraries/python/lib/python3.11/site-packages (from jsonschema>=3.0->altair<6,>=4.0->streamlit) (24.2.0)\nCollecting jsonschema-specifications>=2023.03.6 (from jsonschema>=3.0->altair<6,>=4.0->streamlit)\n  Obtaining dependency information for jsonschema-specifications>=2023.03.6 from https://files.pythonhosted.org/packages/d1/0f/8910b19ac0670a0f80ce1008e5e751c4a57e14d2c4c13a482aa6079fa9d6/jsonschema_specifications-2024.10.1-py3-none-any.whl.metadata\n  Downloading jsonschema_specifications-2024.10.1-py3-none-any.whl.metadata (3.0 kB)\nCollecting referencing>=0.28.4 (from jsonschema>=3.0->altair<6,>=4.0->streamlit)\n  Obtaining dependency information for referencing>=0.28.4 from https://files.pythonhosted.org/packages/b7/59/2056f61236782a2c86b33906c025d4f4a0b17be0161b63b70fd9e8775d36/referencing-0.35.1-py3-none-any.whl.metadata\n  Downloading referencing-0.35.1-py3-none-any.whl.metadata (2.8 kB)\nCollecting rpds-py>=0.7.1 (from jsonschema>=3.0->altair<6,>=4.0->streamlit)\n  Obtaining dependency information for rpds-py>=0.7.1 from https://files.pythonhosted.org/packages/e1/fd/f1fd7e77fef8e5a442ce7fd80ba957730877515fe18d7195f646408a60ce/rpds_py-0.21.0-cp311-cp311-manylinux_2_17_x86_64.manylinux2014_x86_64.whl.metadata\n  Downloading rpds_py-0.21.0-cp311-cp311-manylinux_2_17_x86_64.manylinux2014_x86_64.whl.metadata (4.2 kB)\nCollecting mdurl~=0.1 (from markdown-it-py>=2.2.0->rich<14,>=10.14.0->streamlit)\n  Obtaining dependency information for mdurl~=0.1 from https://files.pythonhosted.org/packages/b3/38/89ba8ad64ae25be8de66a6d463314cf1eb366222074cfda9ee839c56a4b4/mdurl-0.1.2-py3-none-any.whl.metadata\n  Downloading mdurl-0.1.2-py3-none-any.whl.metadata (1.6 kB)\nRequirement already satisfied: six>=1.5 in /usr/lib/python3/dist-packages (from python-dateutil>=2.8.1->pandas<3,>=1.4.0->streamlit) (1.16.0)\nDownloading streamlit-1.40.1-py2.py3-none-any.whl (8.6 MB)\n\u001B[?25l   \u001B[90m━━━━━━━━━━━━━━━━━━━━━━━━━━━━━━━━━━━━━━━━\u001B[0m \u001B[32m0.0/8.6 MB\u001B[0m \u001B[31m?\u001B[0m eta \u001B[36m-:--:--\u001B[0m\n\u001B[2K   \u001B[91m━━\u001B[0m\u001B[91m╸\u001B[0m\u001B[90m━━━━━━━━━━━━━━━━━━━━━━━━━━━━━━━━━━━━━\u001B[0m \u001B[32m0.6/8.6 MB\u001B[0m \u001B[31m18.0 MB/s\u001B[0m eta \u001B[36m0:00:01\u001B[0m\n\u001B[2K   \u001B[91m━━━━━━━━━━━━━\u001B[0m\u001B[91m╸\u001B[0m\u001B[90m━━━━━━━━━━━━━━━━━━━━━━━━━━\u001B[0m \u001B[32m3.0/8.6 MB\u001B[0m \u001B[31m43.4 MB/s\u001B[0m eta \u001B[36m0:00:01\u001B[0m\n\u001B[2K   \u001B[91m━━━━━━━━━━━━━━━━━━━━━━━━━━━━━━━━━━━━━━━\u001B[0m\u001B[91m╸\u001B[0m \u001B[32m8.6/8.6 MB\u001B[0m \u001B[31m89.8 MB/s\u001B[0m eta \u001B[36m0:00:01\u001B[0m\n\u001B[2K   \u001B[91m━━━━━━━━━━━━━━━━━━━━━━━━━━━━━━━━━━━━━━━\u001B[0m\u001B[91m╸\u001B[0m \u001B[32m8.6/8.6 MB\u001B[0m \u001B[31m89.8 MB/s\u001B[0m eta \u001B[36m0:00:01\u001B[0m\n\u001B[2K   \u001B[90m━━━━━━━━━━━━━━━━━━━━━━━━━━━━━━━━━━━━━━━━\u001B[0m \u001B[32m8.6/8.6 MB\u001B[0m \u001B[31m61.9 MB/s\u001B[0m eta \u001B[36m0:00:00\u001B[0m\n\u001B[?25hDownloading altair-5.5.0-py3-none-any.whl (731 kB)\n\u001B[?25l   \u001B[90m━━━━━━━━━━━━━━━━━━━━━━━━━━━━━━━━━━━━━━━━\u001B[0m \u001B[32m0.0/731.2 kB\u001B[0m \u001B[31m?\u001B[0m eta \u001B[36m-:--:--\u001B[0m\n\u001B[2K   \u001B[90m━━━━━━━━━━━━━━━━━━━━━━━━━━━━━━━━━━━━━━━━\u001B[0m \u001B[32m731.2/731.2 kB\u001B[0m \u001B[31m40.1 MB/s\u001B[0m eta \u001B[36m0:00:00\u001B[0m\n\u001B[?25hDownloading pydeck-0.9.1-py2.py3-none-any.whl (6.9 MB)\n\u001B[?25l   \u001B[90m━━━━━━━━━━━━━━━━━━━━━━━━━━━━━━━━━━━━━━━━\u001B[0m \u001B[32m0.0/6.9 MB\u001B[0m \u001B[31m?\u001B[0m eta \u001B[36m-:--:--\u001B[0m\n\u001B[2K   \u001B[91m━━━━━━━━━━━━━━━━━━━━━━━━━━━━━━━━━━━━━\u001B[0m\u001B[90m╺\u001B[0m\u001B[90m━━\u001B[0m \u001B[32m6.4/6.9 MB\u001B[0m \u001B[31m192.5 MB/s\u001B[0m eta \u001B[36m0:00:01\u001B[0m\n\u001B[2K   \u001B[91m━━━━━━━━━━━━━━━━━━━━━━━━━━━━━━━━━━━━━━━\u001B[0m\u001B[91m╸\u001B[0m \u001B[32m6.9/6.9 MB\u001B[0m \u001B[31m186.9 MB/s\u001B[0m eta \u001B[36m0:00:01\u001B[0m\n\u001B[2K   \u001B[90m━━━━━━━━━━━━━━━━━━━━━━━━━━━━━━━━━━━━━━━━\u001B[0m \u001B[32m6.9/6.9 MB\u001B[0m \u001B[31m98.9 MB/s\u001B[0m eta \u001B[36m0:00:00\u001B[0m\n\u001B[?25hDownloading rich-13.9.4-py3-none-any.whl (242 kB)\n\u001B[?25l   \u001B[90m━━━━━━━━━━━━━━━━━━━━━━━━━━━━━━━━━━━━━━━━\u001B[0m \u001B[32m0.0/242.4 kB\u001B[0m \u001B[31m?\u001B[0m eta \u001B[36m-:--:--\u001B[0m\n\u001B[2K   \u001B[90m━━━━━━━━━━━━━━━━━━━━━━━━━━━━━━━━━━━━━━━━\u001B[0m \u001B[32m242.4/242.4 kB\u001B[0m \u001B[31m28.2 MB/s\u001B[0m eta \u001B[36m0:00:00\u001B[0m\n\u001B[?25hDownloading toml-0.10.2-py2.py3-none-any.whl (16 kB)\nDownloading watchdog-6.0.0-py3-none-manylinux2014_x86_64.whl (79 kB)\n\u001B[?25l   \u001B[90m━━━━━━━━━━━━━━━━━━━━━━━━━━━━━━━━━━━━━━━━\u001B[0m \u001B[32m0.0/79.1 kB\u001B[0m \u001B[31m?\u001B[0m eta \u001B[36m-:--:--\u001B[0m\n\u001B[2K   \u001B[90m━━━━━━━━━━━━━━━━━━━━━━━━━━━━━━━━━━━━━━━━\u001B[0m \u001B[32m79.1/79.1 kB\u001B[0m \u001B[31m7.7 MB/s\u001B[0m eta \u001B[36m0:00:00\u001B[0m\n\u001B[?25hDownloading jsonschema-4.23.0-py3-none-any.whl (88 kB)\n\u001B[?25l   \u001B[90m━━━━━━━━━━━━━━━━━━━━━━━━━━━━━━━━━━━━━━━━\u001B[0m \u001B[32m0.0/88.5 kB\u001B[0m \u001B[31m?\u001B[0m eta \u001B[36m-:--:--\u001B[0m\n\u001B[2K   \u001B[90m━━━━━━━━━━━━━━━━━━━━━━━━━━━━━━━━━━━━━━━━\u001B[0m \u001B[32m88.5/88.5 kB\u001B[0m \u001B[31m12.6 MB/s\u001B[0m eta \u001B[36m0:00:00\u001B[0m\n\u001B[?25hDownloading markdown_it_py-3.0.0-py3-none-any.whl (87 kB)\n\u001B[?25l   \u001B[90m━━━━━━━━━━━━━━━━━━━━━━━━━━━━━━━━━━━━━━━━\u001B[0m \u001B[32m0.0/87.5 kB\u001B[0m \u001B[31m?\u001B[0m eta \u001B[36m-:--:--\u001B[0m\n\u001B[2K   \u001B[90m━━━━━━━━━━━━━━━━━━━━━━━━━━━━━━━━━━━━━━━━\u001B[0m \u001B[32m87.5/87.5 kB\u001B[0m \u001B[31m9.1 MB/s\u001B[0m eta \u001B[36m0:00:00\u001B[0m\n\u001B[?25hDownloading narwhals-1.14.2-py3-none-any.whl (225 kB)\n\u001B[?25l   \u001B[90m━━━━━━━━━━━━━━━━━━━━━━━━━━━━━━━━━━━━━━━━\u001B[0m \u001B[32m0.0/225.1 kB\u001B[0m \u001B[31m?\u001B[0m eta \u001B[36m-:--:--\u001B[0m\n\u001B[2K   \u001B[90m━━━━━━━━━━━━━━━━━━━━━━━━━━━━━━━━━━━━━━━━\u001B[0m \u001B[32m225.1/225.1 kB\u001B[0m \u001B[31m30.0 MB/s\u001B[0m eta \u001B[36m0:00:00\u001B[0m\n\u001B[?25hDownloading jsonschema_specifications-2024.10.1-py3-none-any.whl (18 kB)\nDownloading mdurl-0.1.2-py3-none-any.whl (10.0 kB)\nDownloading referencing-0.35.1-py3-none-any.whl (26 kB)\nDownloading rpds_py-0.21.0-cp311-cp311-manylinux_2_17_x86_64.manylinux2014_x86_64.whl (360 kB)\n\u001B[?25l   \u001B[90m━━━━━━━━━━━━━━━━━━━━━━━━━━━━━━━━━━━━━━━━\u001B[0m \u001B[32m0.0/360.4 kB\u001B[0m \u001B[31m?\u001B[0m eta \u001B[36m-:--:--\u001B[0m\n\u001B[2K   \u001B[90m━━━━━━━━━━━━━━━━━━━━━━━━━━━━━━━━━━━━━━━━\u001B[0m \u001B[32m360.4/360.4 kB\u001B[0m \u001B[31m41.1 MB/s\u001B[0m eta \u001B[36m0:00:00\u001B[0m\n\u001B[?25hInstalling collected packages: watchdog, toml, rpds-py, narwhals, mdurl, referencing, pydeck, markdown-it-py, rich, jsonschema-specifications, jsonschema, altair, streamlit\nSuccessfully installed altair-5.5.0 jsonschema-4.23.0 jsonschema-specifications-2024.10.1 markdown-it-py-3.0.0 mdurl-0.1.2 narwhals-1.14.2 pydeck-0.9.1 referencing-0.35.1 rich-13.9.4 rpds-py-0.21.0 streamlit-1.40.1 toml-0.10.2 watchdog-6.0.0\n\u001B[43mNote: you may need to restart the kernel using %restart_python or dbutils.library.restartPython() to use updated packages.\u001B[0m\n"
     ]
    }
   ],
   "source": [
    "%pip install streamlit"
   ]
  },
  {
   "cell_type": "code",
   "execution_count": 0,
   "metadata": {
    "application/vnd.databricks.v1+cell": {
     "cellMetadata": {
      "byteLimit": 2048000,
      "rowLimit": 10000
     },
     "inputWidgets": {},
     "nuid": "71c6300f-67e9-4c62-bbec-310b2974b10e",
     "showTitle": false,
     "tableResultSettingsMap": {},
     "title": ""
    }
   },
   "outputs": [],
   "source": [
    "%restart_python"
   ]
  },
  {
   "cell_type": "code",
   "execution_count": 0,
   "metadata": {
    "application/vnd.databricks.v1+cell": {
     "cellMetadata": {
      "byteLimit": 2048000,
      "rowLimit": 10000
     },
     "inputWidgets": {},
     "nuid": "826ef570-845a-4bf3-9938-86104e319a08",
     "showTitle": false,
     "tableResultSettingsMap": {},
     "title": ""
    }
   },
   "outputs": [
    {
     "output_type": "stream",
     "name": "stderr",
     "output_type": "stream",
     "text": [
      "2024-11-25 09:22:26.616 WARNING streamlit.runtime.scriptrunner_utils.script_run_context: Thread 'MainThread': missing ScriptRunContext! This warning can be ignored when running in bare mode.\n2024-11-25 09:22:26.878 \n  \u001B[33m\u001B[1mWarning:\u001B[0m to view this Streamlit app on a browser, run it with the following\n  command:\n\n    streamlit run /databricks/python_shell/scripts/db_ipykernel_launcher.py [ARGUMENTS]\n2024-11-25 09:22:26.879 Thread 'MainThread': missing ScriptRunContext! This warning can be ignored when running in bare mode.\n2024-11-25 09:22:26.880 Thread 'MainThread': missing ScriptRunContext! This warning can be ignored when running in bare mode.\n2024-11-25 09:22:26.881 Thread 'MainThread': missing ScriptRunContext! This warning can be ignored when running in bare mode.\n2024-11-25 09:22:26.883 Thread 'MainThread': missing ScriptRunContext! This warning can be ignored when running in bare mode.\n2024-11-25 09:22:26.884 Thread 'MainThread': missing ScriptRunContext! This warning can be ignored when running in bare mode.\n2024-11-25 09:22:26.884 Session state does not function when running a script without `streamlit run`\n2024-11-25 09:22:26.885 Thread 'MainThread': missing ScriptRunContext! This warning can be ignored when running in bare mode.\n2024-11-25 09:22:26.885 Thread 'MainThread': missing ScriptRunContext! This warning can be ignored when running in bare mode.\n2024-11-25 09:22:26.888 Thread 'MainThread': missing ScriptRunContext! This warning can be ignored when running in bare mode.\n2024-11-25 09:22:26.888 Thread 'MainThread': missing ScriptRunContext! This warning can be ignored when running in bare mode.\n2024-11-25 09:22:26.889 Thread 'MainThread': missing ScriptRunContext! This warning can be ignored when running in bare mode.\n2024-11-25 09:22:26.890 Thread 'MainThread': missing ScriptRunContext! This warning can be ignored when running in bare mode.\n2024-11-25 09:22:26.890 Thread 'MainThread': missing ScriptRunContext! This warning can be ignored when running in bare mode.\n2024-11-25 09:22:26.891 Thread 'MainThread': missing ScriptRunContext! This warning can be ignored when running in bare mode.\n2024-11-25 09:22:26.950 Thread 'MainThread': missing ScriptRunContext! This warning can be ignored when running in bare mode.\n2024-11-25 09:22:26.950 Thread 'MainThread': missing ScriptRunContext! This warning can be ignored when running in bare mode.\n2024-11-25 09:22:26.951 Thread 'MainThread': missing ScriptRunContext! This warning can be ignored when running in bare mode.\n2024-11-25 09:22:26.952 Thread 'MainThread': missing ScriptRunContext! This warning can be ignored when running in bare mode.\n2024-11-25 09:22:26.952 Thread 'MainThread': missing ScriptRunContext! This warning can be ignored when running in bare mode.\n2024-11-25 09:22:26.953 Thread 'MainThread': missing ScriptRunContext! This warning can be ignored when running in bare mode.\n2024-11-25 09:22:26.955 Thread 'MainThread': missing ScriptRunContext! This warning can be ignored when running in bare mode.\n2024-11-25 09:22:26.956 Thread 'MainThread': missing ScriptRunContext! This warning can be ignored when running in bare mode.\n2024-11-25 09:22:26.956 Thread 'MainThread': missing ScriptRunContext! This warning can be ignored when running in bare mode.\n2024-11-25 09:22:26.957 Thread 'MainThread': missing ScriptRunContext! This warning can be ignored when running in bare mode.\n2024-11-25 09:22:26.958 Thread 'MainThread': missing ScriptRunContext! This warning can be ignored when running in bare mode.\n2024-11-25 09:22:26.958 Thread 'MainThread': missing ScriptRunContext! This warning can be ignored when running in bare mode.\n2024-11-25 09:22:26.959 Thread 'MainThread': missing ScriptRunContext! This warning can be ignored when running in bare mode.\n2024-11-25 09:22:26.959 Thread 'MainThread': missing ScriptRunContext! This warning can be ignored when running in bare mode.\n2024-11-25 09:22:26.960 Thread 'MainThread': missing ScriptRunContext! This warning can be ignored when running in bare mode.\n2024-11-25 09:22:26.960 Thread 'MainThread': missing ScriptRunContext! This warning can be ignored when running in bare mode.\n2024-11-25 09:22:26.961 Thread 'MainThread': missing ScriptRunContext! This warning can be ignored when running in bare mode.\n2024-11-25 09:22:26.962 Thread 'MainThread': missing ScriptRunContext! This warning can be ignored when running in bare mode.\n2024-11-25 09:22:26.962 Thread 'MainThread': missing ScriptRunContext! This warning can be ignored when running in bare mode.\n2024-11-25 09:22:26.963 Thread 'MainThread': missing ScriptRunContext! This warning can be ignored when running in bare mode.\n2024-11-25 09:22:26.963 Thread 'MainThread': missing ScriptRunContext! This warning can be ignored when running in bare mode.\n2024-11-25 09:22:26.963 Thread 'MainThread': missing ScriptRunContext! This warning can be ignored when running in bare mode.\n2024-11-25 09:22:26.964 Thread 'MainThread': missing ScriptRunContext! This warning can be ignored when running in bare mode.\n2024-11-25 09:22:26.964 Thread 'MainThread': missing ScriptRunContext! This warning can be ignored when running in bare mode.\n2024-11-25 09:22:26.965 Thread 'MainThread': missing ScriptRunContext! This warning can be ignored when running in bare mode.\n2024-11-25 09:22:26.967 Thread 'MainThread': missing ScriptRunContext! This warning can be ignored when running in bare mode.\n2024-11-25 09:22:26.967 Thread 'MainThread': missing ScriptRunContext! This warning can be ignored when running in bare mode.\n2024-11-25 09:22:26.968 Thread 'MainThread': missing ScriptRunContext! This warning can be ignored when running in bare mode.\n2024-11-25 09:22:26.968 Thread 'MainThread': missing ScriptRunContext! This warning can be ignored when running in bare mode.\n2024-11-25 09:22:26.969 Thread 'MainThread': missing ScriptRunContext! This warning can be ignored when running in bare mode.\n2024-11-25 09:22:26.969 Thread 'MainThread': missing ScriptRunContext! This warning can be ignored when running in bare mode.\n2024-11-25 09:22:26.970 Thread 'MainThread': missing ScriptRunContext! This warning can be ignored when running in bare mode.\n2024-11-25 09:22:26.970 Thread 'MainThread': missing ScriptRunContext! This warning can be ignored when running in bare mode.\n2024-11-25 09:22:26.970 Thread 'MainThread': missing ScriptRunContext! This warning can be ignored when running in bare mode.\n2024-11-25 09:22:26.971 Thread 'MainThread': missing ScriptRunContext! This warning can be ignored when running in bare mode.\n2024-11-25 09:22:26.971 Thread 'MainThread': missing ScriptRunContext! This warning can be ignored when running in bare mode.\n2024-11-25 09:22:26.972 Thread 'MainThread': missing ScriptRunContext! This warning can be ignored when running in bare mode.\n2024-11-25 09:22:26.972 Thread 'MainThread': missing ScriptRunContext! This warning can be ignored when running in bare mode.\n2024-11-25 09:22:26.974 Thread 'MainThread': missing ScriptRunContext! This warning can be ignored when running in bare mode.\n2024-11-25 09:22:26.975 Thread 'MainThread': missing ScriptRunContext! This warning can be ignored when running in bare mode.\n2024-11-25 09:22:26.975 Thread 'MainThread': missing ScriptRunContext! This warning can be ignored when running in bare mode.\n2024-11-25 09:22:26.976 Thread 'MainThread': missing ScriptRunContext! This warning can be ignored when running in bare mode.\n2024-11-25 09:22:26.976 Thread 'MainThread': missing ScriptRunContext! This warning can be ignored when running in bare mode.\n2024-11-25 09:22:26.977 Thread 'MainThread': missing ScriptRunContext! This warning can be ignored when running in bare mode.\n2024-11-25 09:22:26.977 Thread 'MainThread': missing ScriptRunContext! This warning can be ignored when running in bare mode.\n2024-11-25 09:22:26.978 Thread 'MainThread': missing ScriptRunContext! This warning can be ignored when running in bare mode.\n2024-11-25 09:22:26.978 Thread 'MainThread': missing ScriptRunContext! This warning can be ignored when running in bare mode.\n2024-11-25 09:22:26.979 Thread 'MainThread': missing ScriptRunContext! This warning can be ignored when running in bare mode.\n2024-11-25 09:22:26.979 Thread 'MainThread': missing ScriptRunContext! This warning can be ignored when running in bare mode.\n2024-11-25 09:22:26.980 Thread 'MainThread': missing ScriptRunContext! This warning can be ignored when running in bare mode.\n2024-11-25 09:22:26.980 Thread 'MainThread': missing ScriptRunContext! This warning can be ignored when running in bare mode.\n2024-11-25 09:22:26.981 Thread 'MainThread': missing ScriptRunContext! This warning can be ignored when running in bare mode.\n2024-11-25 09:22:26.982 Thread 'MainThread': missing ScriptRunContext! This warning can be ignored when running in bare mode.\n2024-11-25 09:22:26.982 Thread 'MainThread': missing ScriptRunContext! This warning can be ignored when running in bare mode.\n2024-11-25 09:22:26.984 Thread 'MainThread': missing ScriptRunContext! This warning can be ignored when running in bare mode.\n2024-11-25 09:22:26.984 Thread 'MainThread': missing ScriptRunContext! This warning can be ignored when running in bare mode.\n2024-11-25 09:22:26.985 Thread 'MainThread': missing ScriptRunContext! This warning can be ignored when running in bare mode.\n2024-11-25 09:22:26.985 Thread 'MainThread': missing ScriptRunContext! This warning can be ignored when running in bare mode.\n2024-11-25 09:22:27.019 Thread 'MainThread': missing ScriptRunContext! This warning can be ignored when running in bare mode.\n2024-11-25 09:22:27.020 Thread 'MainThread': missing ScriptRunContext! This warning can be ignored when running in bare mode.\n2024-11-25 09:22:27.021 \nCalling `st.pyplot()` without providing a figure argument has been deprecated\nand will be removed in a later version as it requires the use of Matplotlib's\nglobal figure object, which is not thread-safe.\n\nTo future-proof this code, you should pass in a figure as shown below:\n\n```python\nfig, ax = plt.subplots()\nax.scatter([1, 2, 3], [1, 2, 3])\n# other plotting actions...\nst.pyplot(fig)\n```\n\nIf you have a specific use case that requires this functionality, please let us\nknow via [issue on Github](https://github.com/streamlit/streamlit/issues).\n\n2024-11-25 09:22:27.022 Thread 'MainThread': missing ScriptRunContext! This warning can be ignored when running in bare mode.\n2024-11-25 09:22:27.581 Thread 'MainThread': missing ScriptRunContext! This warning can be ignored when running in bare mode.\n2024-11-25 09:22:27.582 Thread 'MainThread': missing ScriptRunContext! This warning can be ignored when running in bare mode.\n"
     ]
    },
    {
     "output_type": "display_data",
     "data": {
      "text/plain": [
       "<Figure size 1000x600 with 0 Axes>"
      ]
     },
     "metadata": {},
     "output_type": "display_data"
    }
   ],
   "source": [
    "import pandas as pd\n",
    "import numpy as np\n",
    "import matplotlib.pyplot as plt\n",
    "import streamlit as st\n",
    "from sklearn.ensemble import GradientBoostingRegressor\n",
    "from sklearn.model_selection import train_test_split\n",
    "from pandas.plotting import register_matplotlib_converters\n",
    "register_matplotlib_converters()\n",
    "\n",
    "# Craga de tabla delta\n",
    "df = spark.read.format(\"delta\").table(\"default.cleaned_retail\")\n",
    "\n",
    "def predict_sales_with_gb(df):\n",
    "    # Convertir la columna 'Date' a datetime y 'Quantity' a tipo numérico\n",
    "    df = df.withColumnRenamed('Date', 'ds').withColumnRenamed('Quantity', 'y')\n",
    "    df_pd = df.toPandas()\n",
    "    df_pd['ds'] = pd.to_datetime(df_pd['ds'])\n",
    "    df_pd['y'] = pd.to_numeric(df_pd['y'], errors='coerce')  # Convertir Quantity a numérico (maneja valores no válidos)\n",
    "\n",
    "    # Crear la interfaz de usuario con Streamlit\n",
    "    st.title(\"Predicción de Ventas con Gradient Boosting\")\n",
    "    \n",
    "    # Solicitar al usuario la categoría de producto para la predicción\n",
    "    product_category = st.selectbox(\"Seleccione la categoría de producto:\", df_pd['Product_Category'].unique())\n",
    "\n",
    "    # Filtrar por la categoría de producto seleccionada\n",
    "    product_data = df_pd[df_pd['Product_Category'] == product_category]\n",
    "\n",
    "    if product_data.empty:\n",
    "        st.error(f\"No se encontraron datos para la categoría de producto '{product_category}'.\")\n",
    "        return\n",
    "\n",
    "    # Solicitar al usuario si desea predecir por día o por mes\n",
    "    prediction_type = st.radio(\"¿Desea predecir por día o por mes?\", (\"Mes\", \"Día\"))\n",
    "\n",
    "    if prediction_type == 'Mes':\n",
    "        # Agrupar las ventas por mes y sumar las unidades vendidas\n",
    "        product_data.set_index('ds', inplace=True)\n",
    "        monthly_sales = product_data.resample('M').sum(numeric_only=True)\n",
    "\n",
    "        # Filtrar los datos solo hasta el año 2023 para el entrenamiento\n",
    "        historical_data = monthly_sales[monthly_sales.index.year == 2023]\n",
    "\n",
    "        if historical_data.empty:\n",
    "            st.error(f\"No se encontraron datos para el año 2023 y la categoría de producto '{product_category}'.\")\n",
    "            return\n",
    "\n",
    "        # Crear una copia del DataFrame antes de modificarlo\n",
    "        historical_data = historical_data.copy()  # Crear una copia\n",
    "\n",
    "        # Agregar características adicionales para el modelo (Mes y Año)\n",
    "        historical_data['month'] = historical_data.index.month\n",
    "        historical_data['year'] = historical_data.index.year\n",
    "\n",
    "        # Definir las variables predictoras (X) y la variable objetivo (y)\n",
    "        X = historical_data[['year', 'month']]  # Año y mes como características\n",
    "        y = historical_data['y']  # Unidades vendidas como objetivo\n",
    "\n",
    "        # Crear y entrenar el modelo Gradient Boosting Regressor\n",
    "        model = GradientBoostingRegressor(n_estimators=100, learning_rate=0.1, max_depth=3, random_state=42)\n",
    "        model.fit(X, y)\n",
    "\n",
    "        # Hacer predicciones para los 12 meses del año que el usuario ha ingresado\n",
    "        year_to_predict = st.number_input(\"Ingrese el año para la predicción de ventas (ejemplo: 2024):\", min_value=2020, max_value=2030, value=2024)\n",
    "        \n",
    "        future_X = pd.DataFrame({\n",
    "            'year': [year_to_predict] * 12,  # El año para todos los meses\n",
    "            'month': np.arange(1, 13)   # Los meses del año (de 1 a 12)\n",
    "        })\n",
    "\n",
    "        # Predicciones del modelo\n",
    "        forecast = model.predict(future_X)\n",
    "\n",
    "        # Crear un DataFrame con las predicciones\n",
    "        forecast_df = pd.DataFrame(forecast, index=pd.date_range(f'{year_to_predict}-01-01', periods=12, freq='M'), columns=['forecast'])\n",
    "\n",
    "        # Mostrar las predicciones de ventas\n",
    "        st.write(f\"Tendencia de ventas proyectada para la categoría de producto '{product_category}' en el año {year_to_predict}\")\n",
    "        for date, forecast_value in forecast_df.iterrows():\n",
    "            st.write(f\"En {date.strftime('%B %Y')}, la proyección de ventas será de aproximadamente {int(forecast_value['forecast'])} unidades.\")\n",
    "\n",
    "        # Graficar los resultados (mostrando solo las predicciones para el año ingresado)\n",
    "        plt.figure(figsize=(10, 6))\n",
    "        plt.plot(forecast_df.index, forecast_df['forecast'], label=f'Proyección de ventas {year_to_predict}', color='orange')\n",
    "        plt.title(f\"Tendencia de ventas proyectada para la categoría de producto '{product_category}' en el año {year_to_predict}\")\n",
    "        plt.xlabel(\"Mes\")\n",
    "        plt.ylabel(\"Unidades Vendidas\")\n",
    "        plt.legend()\n",
    "        plt.xticks(rotation=45)\n",
    "        plt.grid(True)\n",
    "        st.pyplot()\n",
    "\n",
    "    elif prediction_type == 'Día':\n",
    "        # Agrupar las ventas por día y sumar las unidades vendidas\n",
    "        product_data.set_index('ds', inplace=True)\n",
    "        daily_sales = product_data.resample('D').sum(numeric_only=True)\n",
    "\n",
    "        # Agregar características adicionales para el modelo (Día, Mes y Año)\n",
    "        daily_sales['year'] = daily_sales.index.year\n",
    "        daily_sales['month'] = daily_sales.index.month\n",
    "        daily_sales['day'] = daily_sales.index.day\n",
    "\n",
    "        # Definir las variables predictoras (X) y la variable objetivo (y)\n",
    "        X = daily_sales[['year', 'month', 'day']]  # Año, mes y día como características\n",
    "        y = daily_sales['y']  # Unidades vendidas como objetivo\n",
    "\n",
    "        # Entrenamiento y división de datos\n",
    "        X_train, X_test, y_train, y_test = train_test_split(X, y, test_size=0.2, random_state=42)\n",
    "\n",
    "        # Crear y entrenar el modelo Gradient Boosting Regressor\n",
    "        model = GradientBoostingRegressor(n_estimators=100, learning_rate=0.1, max_depth=3, random_state=42)\n",
    "        model.fit(X_train, y_train)\n",
    "\n",
    "        # Solicitar al usuario la fecha para la predicción\n",
    "        year_input = st.number_input(\"Ingrese el año para la predicción (por ejemplo, 2024):\", min_value=2020, max_value=2030, value=2024)\n",
    "        month_input = st.number_input(\"Ingrese el mes para la predicción (por ejemplo, 11 para noviembre):\", min_value=1, max_value=12, value=11)\n",
    "        day_input = st.number_input(\"Ingrese el día para la predicción (por ejemplo, 24):\", min_value=1, max_value=31, value=24)\n",
    "\n",
    "        # Crear el DataFrame de entrada para la predicción\n",
    "        future_X = pd.DataFrame({\n",
    "            'year': [year_input],\n",
    "            'month': [month_input],\n",
    "            'day': [day_input]\n",
    "        })\n",
    "\n",
    "        # Predicciones del modelo\n",
    "        forecast = model.predict(future_X)\n",
    "\n",
    "        # Mostrar la predicción para el día seleccionado\n",
    "        st.write(f\"Para la fecha {day_input}/{month_input}/{year_input}, la proyección de ventas para la categoría '{product_category}' es de aproximadamente {int(forecast[0])} unidades.\")\n",
    "    else:\n",
    "        st.error(\"Opción inválida. Elija 'Día' o 'Mes'.\")\n",
    "\n",
    "# Ejecutar la función\n",
    "predict_sales_with_gb(df)\n"
   ]
  }
 ],
 "metadata": {
  "application/vnd.databricks.v1+notebook": {
   "dashboards": [],
   "environmentMetadata": {
    "base_environment": "",
    "client": "1"
   },
   "language": "python",
   "notebookMetadata": {
    "pythonIndentUnit": 4
   },
   "notebookName": "prediccion_.py",
   "widgets": {}
  },
  "language_info": {
   "name": "python"
  }
 },
 "nbformat": 4,
 "nbformat_minor": 0
}
